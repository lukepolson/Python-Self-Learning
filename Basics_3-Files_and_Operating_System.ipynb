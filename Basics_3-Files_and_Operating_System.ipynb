{
 "cells": [
  {
   "cell_type": "markdown",
   "metadata": {},
   "source": [
    "Reading from and writing to files is typically performed with the <b> pandas </b> module in python. Regardless, it is still very important to understand the basics of file reading and writing (which is very easy in python)."
   ]
  },
  {
   "cell_type": "code",
   "execution_count": 19,
   "metadata": {
    "collapsed": true
   },
   "outputs": [],
   "source": [
    "path='example/lesson3textfile.txt'\n",
    "f = open(path)"
   ]
  },
  {
   "cell_type": "markdown",
   "metadata": {},
   "source": [
    "By default, the file is in read-only mode. We can treat f like an iterator with the lines being the objects to iterate over."
   ]
  },
  {
   "cell_type": "code",
   "execution_count": 20,
   "metadata": {},
   "outputs": [
    {
     "name": "stdout",
     "output_type": "stream",
     "text": [
      "(These violent delights have violent ends\n",
      ")\n",
      "(And in their triumph die, like fire and powder\n",
      ")\n",
      "(Which, as they kiss, consume.)\n"
     ]
    }
   ],
   "source": [
    "for line in f:\n",
    "    print('('+line+')')\n",
    "    pass"
   ]
  },
  {
   "cell_type": "markdown",
   "metadata": {},
   "source": [
    "Lines come out of text files with <b> end-of-line (EOL) </b> markers intact, and we often need to strip these blank markers. Notice in the example above that the right bracket is placed on the line below. We can remove these end of line markers like such:"
   ]
  },
  {
   "cell_type": "code",
   "execution_count": 23,
   "metadata": {},
   "outputs": [
    {
     "data": {
      "text/plain": [
       "['These violent delights have violent ends',\n",
       " 'And in their triumph die, like fire and powder',\n",
       " 'Which, as they kiss, consume.']"
      ]
     },
     "execution_count": 23,
     "metadata": {},
     "output_type": "execute_result"
    }
   ],
   "source": [
    "lines = [x.rstrip() for x in open(path)]\n",
    "lines"
   ]
  },
  {
   "cell_type": "markdown",
   "metadata": {},
   "source": [
    "It is very important that you close a file when you are finished working with it. This releases the resources back to the operating system."
   ]
  },
  {
   "cell_type": "code",
   "execution_count": 24,
   "metadata": {
    "collapsed": true
   },
   "outputs": [],
   "source": [
    "f.close()"
   ]
  },
  {
   "cell_type": "markdown",
   "metadata": {},
   "source": [
    "The <b>with</b> statement takes away having top remember to write f.close() as it automatically closes the file when after the with block is executed."
   ]
  },
  {
   "cell_type": "code",
   "execution_count": 26,
   "metadata": {
    "collapsed": true
   },
   "outputs": [],
   "source": [
    "with open(path) as f:\n",
    "    lines = [x.rstrip() for x in open(path)]"
   ]
  },
  {
   "cell_type": "markdown",
   "metadata": {},
   "source": [
    "If we had typed f = open(path, 'w') then a new file would have been created in place of the old one (thus overwriting the old file). One thus needs to be very careful when using the write command 'w.'"
   ]
  },
  {
   "cell_type": "markdown",
   "metadata": {},
   "source": [
    "The most common methods for readable files are <b>read(i)</b> which advances the files handle position by i bytes, <b>tell()</b> which tells you your current position in the file, and <b>seek(i)</b> which changes the file position to the ith byte in the file. "
   ]
  },
  {
   "cell_type": "code",
   "execution_count": 28,
   "metadata": {},
   "outputs": [
    {
     "data": {
      "text/plain": [
       "'These'"
      ]
     },
     "execution_count": 28,
     "metadata": {},
     "output_type": "execute_result"
    }
   ],
   "source": [
    "f=open(path)\n",
    "f.read(5)"
   ]
  },
  {
   "cell_type": "code",
   "execution_count": 29,
   "metadata": {},
   "outputs": [
    {
     "data": {
      "text/plain": [
       "11"
      ]
     },
     "execution_count": 29,
     "metadata": {},
     "output_type": "execute_result"
    }
   ],
   "source": [
    "f.seek(11)\n",
    "f.tell()"
   ]
  },
  {
   "cell_type": "code",
   "execution_count": 30,
   "metadata": {},
   "outputs": [
    {
     "data": {
      "text/plain": [
       "'nt delights have vio'"
      ]
     },
     "execution_count": 30,
     "metadata": {},
     "output_type": "execute_result"
    }
   ],
   "source": [
    "f.read(20)"
   ]
  },
  {
   "cell_type": "code",
   "execution_count": 31,
   "metadata": {
    "collapsed": true
   },
   "outputs": [],
   "source": [
    "f.close()"
   ]
  },
  {
   "cell_type": "markdown",
   "metadata": {},
   "source": [
    "# Bytes and Unicode with Files"
   ]
  },
  {
   "cell_type": "markdown",
   "metadata": {},
   "source": [
    "There are fancy ways to open files in binary mode (that express symbols like ç, √, Ω, ...) in the common UTF-8 characters. To do this simply open the file as f = open(path, 'rb'). We contrast binary with the standard way of opening a file below:"
   ]
  },
  {
   "cell_type": "code",
   "execution_count": 8,
   "metadata": {},
   "outputs": [
    {
     "name": "stdout",
     "output_type": "stream",
     "text": [
      "The square root symbol: √ \n",
      "\n",
      "The symbol Omega: Ω\n"
     ]
    }
   ],
   "source": [
    "f=open('example/lesson3textfile2.txt')\n",
    "for line in f:\n",
    "    print(line)"
   ]
  },
  {
   "cell_type": "code",
   "execution_count": 9,
   "metadata": {},
   "outputs": [
    {
     "name": "stdout",
     "output_type": "stream",
     "text": [
      "b'The square root symbol: \\xe2\\x88\\x9a \\n'\n",
      "b'The symbol Omega: \\xce\\xa9'\n"
     ]
    }
   ],
   "source": [
    "f=open('example/lesson3textfile2.txt', 'rb')\n",
    "for line in f:\n",
    "    print(line)"
   ]
  },
  {
   "cell_type": "markdown",
   "metadata": {},
   "source": [
    "The 'b' at the beginning of the sentence lets one know that we are reading in binary. Here we can see the \\n marker at the end of the sentence (the end of line marker). The fancy symbols are defined using the UTF-8 characters."
   ]
  },
  {
   "cell_type": "markdown",
   "metadata": {},
   "source": [
    "We can convert these binary phrases to utf8 sentences using the following methods."
   ]
  },
  {
   "cell_type": "code",
   "execution_count": 20,
   "metadata": {},
   "outputs": [
    {
     "data": {
      "text/plain": [
       "b'The square root symbol: \\xe2\\x88\\x9a \\nThe symbol '"
      ]
     },
     "execution_count": 20,
     "metadata": {},
     "output_type": "execute_result"
    }
   ],
   "source": [
    "f=open('example/lesson3textfile2.txt', 'rb')\n",
    "line = f.read(40)\n",
    "line"
   ]
  },
  {
   "cell_type": "code",
   "execution_count": 21,
   "metadata": {},
   "outputs": [
    {
     "data": {
      "text/plain": [
       "'The square root symbol: √ \\nThe symbol '"
      ]
     },
     "execution_count": 21,
     "metadata": {},
     "output_type": "execute_result"
    }
   ],
   "source": [
    "line.decode('utf8')"
   ]
  },
  {
   "cell_type": "markdown",
   "metadata": {},
   "source": [
    "Our line is now in the standard utf8 format. Note that the end of line tag \"\\n\" still remains."
   ]
  },
  {
   "cell_type": "markdown",
   "metadata": {},
   "source": [
    "# Writing to Files"
   ]
  },
  {
   "cell_type": "markdown",
   "metadata": {},
   "source": [
    "We can also write text to new files. To do this, we use file's <b> write </b> or <b> writelines </b> method. Lets copy the text from our shakespeare passage to a new file."
   ]
  },
  {
   "cell_type": "code",
   "execution_count": 12,
   "metadata": {},
   "outputs": [
    {
     "data": {
      "text/plain": [
       "['These violent delights have violent ends\\n',\n",
       " 'And in their triumph die, like fire and powder\\n',\n",
       " 'Which, as they kiss, consume.']"
      ]
     },
     "execution_count": 12,
     "metadata": {},
     "output_type": "execute_result"
    }
   ],
   "source": [
    "with open('temp.txt', 'w') as f:\n",
    "    f.writelines(x for x in open('example/lesson3textfile.txt') if len(x)>1)\n",
    "    \n",
    "with open('temp.txt') as f:\n",
    "    lines = f.readlines()\n",
    "    \n",
    "lines"
   ]
  },
  {
   "cell_type": "markdown",
   "metadata": {},
   "source": [
    "Firstly, we open (and overwrite any other file) 'temp.txt' and assign this to the variable 'f'. Then we use the files writelines method to write a number of lines to the file 'temp.txt' from the file 'lesson3textfile.txt'."
   ]
  },
  {
   "cell_type": "markdown",
   "metadata": {},
   "source": [
    "# Bytes and Unicode with Files"
   ]
  },
  {
   "cell_type": "code",
   "execution_count": null,
   "metadata": {
    "collapsed": true
   },
   "outputs": [],
   "source": []
  }
 ],
 "metadata": {
  "kernelspec": {
   "display_name": "Python 3",
   "language": "python",
   "name": "python3"
  },
  "language_info": {
   "codemirror_mode": {
    "name": "ipython",
    "version": 3
   },
   "file_extension": ".py",
   "mimetype": "text/x-python",
   "name": "python",
   "nbconvert_exporter": "python",
   "pygments_lexer": "ipython3",
   "version": "3.6.2"
  }
 },
 "nbformat": 4,
 "nbformat_minor": 2
}
